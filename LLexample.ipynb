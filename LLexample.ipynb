{
 "cells": [
  {
   "attachments": {
    "0c53875f-259e-45be-89cb-6b7cb65431f6.png": {
     "image/png": "[encoded data removed]"
    }
   },
   "cell_type": "markdown",
   "id": "0",
   "metadata": {},
   "source": [
    "Loglikelihood example\n",
    "===\n",
    "\n",
    "![image.png](attachment:0c53875f-259e-45be-89cb-6b7cb65431f6.png)"
   ]
  },
  {
   "cell_type": "code",
   "execution_count": null,
   "id": "1",
   "metadata": {},
   "outputs": [],
   "source": [
    "import ROOT as r\n",
    "import numpy as np\n",
    "# use static plots\n",
    "%jsroot off"
   ]
  },
  {
   "cell_type": "code",
   "execution_count": null,
   "id": "2",
   "metadata": {},
   "outputs": [],
   "source": [
    "# recreate the above plot as a histogram\n",
    "x=np.array([-.95,-.85,-.75,-.55,-.35,-.15,-.05,.05,.35,.65,.95])\n",
    "y=np.array([1,1,2,2,2,2,2,1,1,1,1])\n",
    "hdata=r.TH1F(\"hdata\",\"data distibution;cos#theta;Events/0.1\",20,-1,1)\n",
    "hmodel=r.TH1F(\"hmodel\",\"model distibution;cos#theta;Events/0.1\",20,-1,1)\n",
    "model=r.TF1(\"model\",\"1.05-x\",-1,1)\n",
    "hmodel.SetLineColor(r.kRed)\n",
    "for i in range(len(x)): \n",
    "    hdata.Fill(x[i],y[i])\n",
    "for i in range(1,hmodel.GetNbinsX()+1):\n",
    "    xi=hmodel.GetBinCenter(i)\n",
    "    hmodel.Fill(xi,model.Eval(xi))"
   ]
  },
  {
   "cell_type": "code",
   "execution_count": null,
   "id": "3",
   "metadata": {},
   "outputs": [],
   "source": [
    "tc=r.TCanvas()\n",
    "hdata.Draw(\"e\")\n",
    "hmodel.Draw(\"hist,same\")\n",
    "tc.Draw()"
   ]
  },
  {
   "cell_type": "markdown",
   "id": "4",
   "metadata": {},
   "source": [
    "Calculation of -NLL\n",
    "---"
   ]
  },
  {
   "cell_type": "code",
   "execution_count": null,
   "id": "5",
   "metadata": {},
   "outputs": [],
   "source": [
    "# both data and model are expected to be histograms here\n",
    "from math import log\n",
    "def calcNLL(data,model):\n",
    "    NLL=0.0\n",
    "    for i in range(1,data.GetNbinsX()+1):\n",
    "        nExpected = model.GetBinContent(i)\n",
    "        nObs = data.GetBinContent(i)\n",
    "        prob = r.TMath.Poisson(nObs,nExpected)  # Poisson P(nobs; mu=nExpected)\n",
    "        NLL -= log(prob)\n",
    "    return NLL"
   ]
  },
  {
   "cell_type": "code",
   "execution_count": null,
   "id": "6",
   "metadata": {},
   "outputs": [],
   "source": [
    "print(f'NLL for the data and model is: {calcNLL(hdata,hmodel):0.1f}')"
   ]
  },
  {
   "cell_type": "markdown",
   "id": "7",
   "metadata": {},
   "source": [
    "Generate a pseudoexperiment\n",
    "---"
   ]
  },
  {
   "cell_type": "code",
   "execution_count": null,
   "id": "8",
   "metadata": {},
   "outputs": [],
   "source": [
    "from math import sqrt\n",
    "def makePE(model,h):\n",
    "    tr=r.TRandom2(0)\n",
    "    for i in range(1,h.GetNbinsX()+1):\n",
    "        nExpected = model.GetBinContent(i)\n",
    "        nObs = tr.Poisson(nExpected) # random pseudodata based on the model\n",
    "        h.SetBinContent(i,nObs)\n",
    "        h.SetBinError(i,sqrt(nObs))"
   ]
  },
  {
   "cell_type": "code",
   "execution_count": null,
   "id": "9",
   "metadata": {},
   "outputs": [],
   "source": [
    "tc2=r.TCanvas()\n",
    "tc2.Divide(2,2)\n",
    "hPE=[0]*4 # histograms for pseudoexperiments\n",
    "for i in range(1,5):\n",
    "    hPE[i-1]=hdata.Clone(f\"hpseudo{i}\")\n",
    "    hPE[i-1].Reset()  # clear entries to empty histogram\n",
    "    makePE(hmodel,hPE[i-1])\n",
    "    tc2.cd(i)\n",
    "    hPE[i-1].Draw(\"e\")\n",
    "tc2.Draw()"
   ]
  },
  {
   "cell_type": "markdown",
   "id": "10",
   "metadata": {},
   "source": [
    "Finally we can calculate the expected NLL distribution by histograing the NLLs for many PEs like this.  And use that distribution (intergal of NLL PDF for getting worse agreement between our data and model) to interpret the level of agreement for the NLL = 23.4 calculated above."
   ]
  },
  {
   "cell_type": "code",
   "execution_count": null,
   "id": "11",
   "metadata": {},
   "outputs": [],
   "source": [
    "for i in range(len(hPE)):\n",
    "    print (\"PE NLL:\",calcNLL(hPE[i],hmodel))"
   ]
  },
  {
   "cell_type": "code",
   "execution_count": null,
   "id": "12",
   "metadata": {},
   "outputs": [],
   "source": []
  }
 ],
 "metadata": {
  "kernelspec": {
   "display_name": "Python 3 (ipykernel)",
   "language": "python",
   "name": "python3"
  },
  "language_info": {
   "codemirror_mode": {
    "name": "ipython",
    "version": 3
   },
   "file_extension": ".py",
   "mimetype": "text/x-python",
   "name": "python",
   "nbconvert_exporter": "python",
   "pygments_lexer": "ipython3",
   "version": "3.11.8"
  }
 },
 "nbformat": 4,
 "nbformat_minor": 5
}
