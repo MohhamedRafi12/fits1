{
 "cells": [
  {
   "cell_type": "markdown",
   "id": "0",
   "metadata": {},
   "source": [
    "Example of parameter uncertainties in fits\n",
    "=====\n",
    "\n",
    "First we generate random data to fill a histogram using the PDF for a normal distribution."
   ]
  },
  {
   "cell_type": "code",
   "execution_count": null,
   "id": "1",
   "metadata": {},
   "outputs": [],
   "source": [
    "import ROOT as r\n",
    "# make only static plots\n",
    "%jsroot off  "
   ]
  },
  {
   "cell_type": "code",
   "execution_count": null,
   "id": "2",
   "metadata": {},
   "outputs": [],
   "source": [
    "h=r.TH1F(\"h1\",\"Random normal;x;#events\",100,-4,4)\n",
    "h.Sumw2()  # for error bars (and proper errors if using weighted data)\n",
    "# here we use a custom function instead of the built in one to show the work more explicitly\n",
    "gaus=r.TF1(\"mygaus\",\"[0]*exp(-(x-[1])*(x-[1])/[2]/[2])\",-4,4)\n",
    "gaus.SetParameters(1,0,1)\n",
    "h.FillRandom(\"gaus\",4000)"
   ]
  },
  {
   "cell_type": "code",
   "execution_count": null,
   "id": "3",
   "metadata": {},
   "outputs": [],
   "source": [
    "tc=r.TCanvas()\n",
    "h.Draw()\n",
    "tc.Draw()"
   ]
  },
  {
   "cell_type": "markdown",
   "id": "4",
   "metadata": {},
   "source": [
    "Now we fit the data using a Gaussian.  (We'll discuss the fitting interface in ROOT in more detail later)."
   ]
  },
  {
   "cell_type": "code",
   "execution_count": null,
   "id": "5",
   "metadata": {},
   "outputs": [],
   "source": [
    "tc=r.TCanvas()\n",
    "gaus.SetParameter(0,h.GetMaximum())  # adjust starting parameter\n",
    "gaus.SetParName(0,\"Constant\");\n",
    "gaus.SetParName(1,\"Mean\");\n",
    "gaus.SetParName(2,\"Sigma\");\n",
    "h.Fit(\"mygaus\")\n",
    "tc.Draw()\n",
    "par=[0]*3\n",
    "err=[0]*3\n",
    "for i in range(3):\n",
    "    par[i]=gaus.GetParameter(i)\n",
    "    err[i]=gaus.GetParError(i)\n",
    "chi2_fit=gaus.GetChisquare();"
   ]
  },
  {
   "cell_type": "markdown",
   "id": "6",
   "metadata": {},
   "source": [
    "Notice that the fitter provided the best fit values as well as an estimate of the parameter uncertainty.  Try changing the number of entries generated for the histogram.  You will see the parameter (relative) errors shrinking or increasing if more or fewer data are generated.  Larger data sets constrain models better! \n",
    "\n",
    "Next, let's get a feeling for where these parameter errors are coming from.  We'll look at parameter(1), the fitted mean."
   ]
  },
  {
   "cell_type": "code",
   "execution_count": null,
   "id": "7",
   "metadata": {},
   "outputs": [],
   "source": [
    "# Generate a range of values around the best fit value\n",
    "import numpy as np\n",
    "vals=np.linspace(par[1]-3*err[1],par[1]+3*err[1],100)"
   ]
  },
  {
   "cell_type": "code",
   "execution_count": null,
   "id": "8",
   "metadata": {},
   "outputs": [],
   "source": [
    "# for each value or the mean we minimize the other parameters, keeping the mean fixed\n",
    "gaus.FixParameter(1,0)\n",
    "grb=r.TGraph()\n",
    "grb.SetTitle(\"Chi^2 vs param [1];param [1];Chi^2\")\n",
    "for b in vals:\n",
    "    gaus.SetParameter(1,b)\n",
    "    h.Fit(\"mygaus\",\"q0\")\n",
    "    grb.SetPoint(grb.GetN(),b,gaus.GetChisquare())\n",
    "gaus.ReleaseParameter(1)"
   ]
  },
  {
   "cell_type": "markdown",
   "id": "9",
   "metadata": {},
   "source": [
    "Draw the contour of $\\chi^2$ values, showing the dependence on the mean, eg $\\chi^2(par[1];par[0],par[2])$.  We see that the $\\chi^2$ has a parabolic shape to a large degree in the vicinity of the minimum."
   ]
  },
  {
   "cell_type": "code",
   "execution_count": null,
   "id": "10",
   "metadata": {},
   "outputs": [],
   "source": [
    "tc.Clear()\n",
    "grb.Draw(\"al\")\n",
    "min=r.TLine(vals[0],chi2_fit,vals[-1],chi2_fit)\n",
    "minplus1=r.TLine(vals[0],chi2_fit+1,vals[-1],chi2_fit+1)\n",
    "nom1=r.TLine(par[1],chi2_fit,par[1],chi2_fit+4)\n",
    "nom1minus=r.TLine(par[1]-err[1],chi2_fit,par[1]-err[1],chi2_fit+4)\n",
    "nom1plus=r.TLine(par[1]+err[1],chi2_fit,par[1]+err[1],chi2_fit+4)\n",
    "\n",
    "# Alignment options, see TAttText Class Reference\n",
    "left=11\n",
    "center=21\n",
    "right=31\n",
    "txt=r.TText()\n",
    "txt.SetTextAlign(center);\n",
    "txt.DrawText(par[1],chi2_fit+4,\"fitted Mean\")\n",
    "txt.SetTextAlign(right);\n",
    "txt.DrawText(par[1]-err[1],chi2_fit+4,\"-1 sigma\")\n",
    "txt.SetTextAlign(left);\n",
    "txt.DrawText(par[1]+err[1],chi2_fit+4,\"+1 sigma\")\n",
    "txt.DrawText(par[1]+err[1],chi2_fit,\"chi^2 min\")\n",
    "txt.DrawText(par[1]+err[1],chi2_fit+1,\"chi^2 min+1\")\n",
    "min.Draw()\n",
    "minplus1.Draw()\n",
    "nom1.Draw()\n",
    "nom1minus.Draw()\n",
    "nom1plus.Draw()\n",
    "tc.Draw()"
   ]
  },
  {
   "cell_type": "markdown",
   "id": "11",
   "metadata": {},
   "source": [
    "Here we fit the region around the minimum to illustrate the parabolic shape. "
   ]
  },
  {
   "cell_type": "code",
   "execution_count": null,
   "id": "12",
   "metadata": {},
   "outputs": [],
   "source": [
    "from math import sqrt\n",
    "grb.Fit(\"pol2\",\"\",\"\",par[1]-err[1],par[1]+err[1])\n",
    "tc.Draw()"
   ]
  },
  {
   "cell_type": "markdown",
   "id": "13",
   "metadata": {},
   "source": [
    "Using the curvture at the $\\chi^2$ minimum, calculate the (parabolic) uncertainty on the mean.  This is the amount of variation needed to go from the $\\chi^2$ minimum to $\\chi^2$ minimum + 1."
   ]
  },
  {
   "cell_type": "code",
   "execution_count": null,
   "id": "14",
   "metadata": {
    "tags": []
   },
   "outputs": [],
   "source": [
    "pol2=grb.GetFunction(\"pol2\")\n",
    "d2X2d2p=pol2.GetParameter(2)*2\n",
    "dx=sqrt(2/d2X2d2p)\n",
    "print(f\"Fitted error for param[1]:                                       {err[1]:.{4}}\")\n",
    "print(f\"Error calculated from this 2nd derivative of chi^2 wrt param[1]: {dx:.{4}}\")"
   ]
  },
  {
   "cell_type": "markdown",
   "id": "15",
   "metadata": {},
   "source": [
    "We see here that the parameter error quoted in the fit is directly related to the (parabolic) curvature of the chi^2 around the minimum.  The range of values of the parameter satisfying $\\chi^2<\\chi^2_{min}+1$ defines the \"1-sigma\" uncertainty of the fit parameter.\n",
    "\n",
    "If this is a good estimation of the parameter uncertainty, how would you expect the fit parameters to vary if we repeated this fitting experiment many times on independently generated data samples?\n",
    "\n",
    "**You will explore this question in this week's exercise!**"
   ]
  }
 ],
 "metadata": {
  "kernelspec": {
   "display_name": "Python 3 (ipykernel)",
   "language": "python",
   "name": "python3"
  },
  "language_info": {
   "codemirror_mode": {
    "name": "ipython",
    "version": 3
   },
   "file_extension": ".py",
   "mimetype": "text/x-python",
   "name": "python",
   "nbconvert_exporter": "python",
   "pygments_lexer": "ipython3",
   "version": "3.11.8"
  }
 },
 "nbformat": 4,
 "nbformat_minor": 5
}
