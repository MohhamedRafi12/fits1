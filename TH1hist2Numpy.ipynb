{
 "cells": [
  {
   "cell_type": "markdown",
   "id": "0",
   "metadata": {},
   "source": [
    "This notebook provides a basic example to convert root histograms to numpy arrays "
   ]
  },
  {
   "cell_type": "code",
   "execution_count": null,
   "id": "1",
   "metadata": {},
   "outputs": [],
   "source": [
    "import ROOT as r\n",
    "import numpy as np\n",
    "import matplotlib.pyplot as plt"
   ]
  },
  {
   "cell_type": "code",
   "execution_count": null,
   "id": "2",
   "metadata": {},
   "outputs": [],
   "source": [
    "# Open the ROOT TFile\n",
    "filename = \"histo1k.root\"  # Replace with your actual file name\n",
    "tfile = r.TFile(filename)\n",
    "\n",
    "# list the file contents\n",
    "tfile.ls()\n",
    "\n",
    "# Retrieve the histogram from the TFile\n",
    "histname = \"randomHist1\"  # Replace with your actual histogram name\n",
    "histogram = tfile.Get(histname)"
   ]
  },
  {
   "cell_type": "code",
   "execution_count": null,
   "id": "3",
   "metadata": {},
   "outputs": [],
   "source": [
    "# a basic function to convert ROOT histograms into numpy arrays\n",
    "def hist2np(h):\n",
    "    nbin=h.GetNbinsX()\n",
    "    x=np.zeros(nbin)\n",
    "    y=np.zeros(nbin)\n",
    "    ey=np.zeros(nbin)\n",
    "    for i in range(1,nbin+1):  # bin index is 1..N\n",
    "        x[i-1]=h.GetBinCenter(i)\n",
    "        y[i-1]=h.GetBinContent(i)\n",
    "        ey[i-1]=h.GetBinError(i)\n",
    "    return x,y,ey"
   ]
  },
  {
   "cell_type": "code",
   "execution_count": null,
   "id": "4",
   "metadata": {},
   "outputs": [],
   "source": [
    "# Plot the histogram data with error bars\n",
    "x,y,yerr = hist2np(histogram)\n",
    "\n",
    "plt.errorbar(x, y, yerr=yerr, fmt='.')"
   ]
  },
  {
   "cell_type": "markdown",
   "id": "5",
   "metadata": {},
   "source": [
    "Compare below.  Note that this histogram saved in the ROOT file had a Gaussina fit applied.  We did not extract this data above."
   ]
  },
  {
   "cell_type": "code",
   "execution_count": null,
   "id": "6",
   "metadata": {},
   "outputs": [],
   "source": [
    "tc=r.TCanvas()\n",
    "histogram.Draw(\"e\")\n",
    "tc.Draw()"
   ]
  },
  {
   "cell_type": "code",
   "execution_count": null,
   "id": "7",
   "metadata": {},
   "outputs": [],
   "source": []
  }
 ],
 "metadata": {
  "kernelspec": {
   "display_name": "Python 3 (ipykernel)",
   "language": "python",
   "name": "python3"
  },
  "language_info": {
   "codemirror_mode": {
    "name": "ipython",
    "version": 3
   },
   "file_extension": ".py",
   "mimetype": "text/x-python",
   "name": "python",
   "nbconvert_exporter": "python",
   "pygments_lexer": "ipython3",
   "version": "3.9.13"
  }
 },
 "nbformat": 4,
 "nbformat_minor": 5
}
